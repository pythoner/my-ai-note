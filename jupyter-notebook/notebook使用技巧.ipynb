{
 "cells": [
  {
   "cell_type": "markdown",
   "id": "acd93e14-1199-4bd5-a6c6-6d46e1685798",
   "metadata": {},
   "source": [
    "##### **单元格模式**\n",
    "\n",
    "jupyter notebok的单元格有两种模式: **编辑模式** 和 **命令模式**。 \n",
    "* 在编辑模式下， 按 **Esc**键使单元格进入 **命令模式**\n",
    "* 在命令模式下， 按**Enter**键使单元格进入**编辑模式**"
   ]
  },
  {
   "cell_type": "markdown",
   "id": "199010f9-8cfb-4945-a035-e54808b66e64",
   "metadata": {},
   "source": [
    "##### **单元格的操作**:\n",
    "> 下面的操作都是在单元格的**命令模式**下进行\n",
    "\n",
    "* 添加单元格\n",
    "  1. 按**a**键: 在当前单元格上方添加单元格\n",
    "  2. 按**b**键: 在当前单元格下方添加单元格\n",
    "\n",
    "* 删除单元格\n",
    "  1. 按**d** + **d**键: 按下dd删除当前单元格\n",
    "\n",
    "* 复制/剪切\n",
    "\n",
    "  1. 按**c**键: 复制当前单元格\n",
    "  \n",
    "  2. 按**x**键: 剪切当前单元格\n",
    "\n",
    "* 粘贴\n",
    "\n",
    "  1. 按**v**键： 在当前单元格下方粘贴单元格\n",
    "  2. 按**shift** +  **v**， 在当前单元格上方粘贴单元格\n",
    "\n",
    "* 移动\n",
    "  1. 按 \"ctrl\" + \"shift\" + UP: 当前单元格上移\n",
    "  2. 按 \"ctrl\" + \"shift\" + Down: 当前单元格上移\n",
    "\n",
    "* 更改单元格的属性\n",
    "  1. 按 \"m\": 当单元格变更为markdown类型\n",
    "  2. y： 将单元格变更为code类型\n",
    "* 撤销\n",
    "  1. z： 撤销删除"
   ]
  },
  {
   "cell_type": "markdown",
   "id": "a3b80ba7-cf72-49a9-9115-b6fa136c19ee",
   "metadata": {},
   "source": [
    "##### **代码运行相关** \n",
    "\n",
    "运行当前单元格代码：\n",
    "* ctrl + enter： 运行当前单元格\n",
    "* shift + enter: 运行当前单元格， 并选中下一个单元格\n",
    "* alt + enter:  运行当前单元格并在下方插入一个新的单元格\n",
    "> alt 和shift的区别就是， alt必定创建一个新的单元格， 而shift当下方不存在单元格的时候，创建一个新的， 否则移至下方存在的单元格。\n",
    ">\n",
    "\n",
    "##### **代码提示**\n",
    "\n",
    "* shift + tab： 显示提示\n",
    "* ？: 显示提示\n",
    "> 二者的区别是？是在下方新建一个单元格展示提示，而shift + tab是一个浮动窗口的形式展示。\n",
    "\n",
    "##### **代码自动补全**\n",
    "\n",
    "* \".\" + tab: 显示函数，属性等"
   ]
  },
  {
   "cell_type": "code",
   "execution_count": null,
   "id": "031704e6-7fb7-4d70-867c-51128728f8ff",
   "metadata": {},
   "outputs": [],
   "source": []
  }
 ],
 "metadata": {
  "kernelspec": {
   "display_name": "Python 3 (ipykernel)",
   "language": "python",
   "name": "python3"
  },
  "language_info": {
   "codemirror_mode": {
    "name": "ipython",
    "version": 3
   },
   "file_extension": ".py",
   "mimetype": "text/x-python",
   "name": "python",
   "nbconvert_exporter": "python",
   "pygments_lexer": "ipython3",
   "version": "3.12.1"
  }
 },
 "nbformat": 4,
 "nbformat_minor": 5
}
